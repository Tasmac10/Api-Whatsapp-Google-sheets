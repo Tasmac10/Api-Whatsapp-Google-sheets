{
 "cells": [
  {
   "cell_type": "code",
   "execution_count": 1,
   "id": "9558f3b2",
   "metadata": {
    "ExecuteTime": {
     "end_time": "2023-09-14T20:45:46.648905Z",
     "start_time": "2023-09-14T20:45:46.587271Z"
    }
   },
   "outputs": [],
   "source": [
    "from selenium import webdriver\n",
    "from selenium.webdriver.chrome.service import Service\n",
    "from selenium.webdriver.common.by import By\n",
    "from selenium.webdriver.support.ui import WebDriverWait\n",
    "from urllib.parse import quote\n",
    "from re import fullmatch\n",
    "from webdriver_manager.chrome import ChromeDriverManager\n",
    "import time\n",
    "import pandas as pd\n",
    "import requests\n",
    "import io"
   ]
  },
  {
   "cell_type": "code",
   "execution_count": null,
   "id": "fdf9ee3d",
   "metadata": {},
   "outputs": [],
   "source": [
    "### Configuração do driver no Safari\n",
    "driver = webdriver.Safari()"
   ]
  },
  {
   "cell_type": "code",
   "execution_count": null,
   "id": "a6742162",
   "metadata": {},
   "outputs": [],
   "source": [
    "### Mensagem para enviar\n",
    "message = str('''menssagem\n",
    "''')"
   ]
  },
  {
   "cell_type": "code",
   "execution_count": null,
   "id": "af5363fa",
   "metadata": {},
   "outputs": [],
   "source": [
    "### Entrar no WhatsApp\n",
    "driver.get(\"https://web.whatsapp.com/\")"
   ]
  },
  {
   "cell_type": "code",
   "execution_count": 2,
   "id": "44a9949f",
   "metadata": {
    "ExecuteTime": {
     "start_time": "2023-09-14T20:45:46.629275Z"
    }
   },
   "outputs": [],
   "source": [
    "### Interação com a Planilha\n",
    "sheets_id = 'ID da planilha do Google Sheets'\n",
    "df = pd.read_csv(f\"https://docs.google.com/spreadsheets/d/{sheets_id}/export?format=csv\")\n",
    "\n",
    "for i in df['Number']:\n",
    "    phone_no = str(i)\n",
    "    try:\n",
    "        def modify_number(phone_no):\n",
    "            phone_no = phone_no.replace(\" \", \"\").replace(\"-\", \"\").replace(\"(\", \"\").replace(\")\", \"\")\n",
    "            return phone_no\n",
    "\n",
    "        phone_no = modify_number(phone_no)\n",
    "\n",
    "        # API do WhatsApp\n",
    "        site = f\"https://web.whatsapp.com/send?phone={phone_no}&text={quote(message)}\"\n",
    "        driver.get(site)\n",
    "        \n",
    "        # XPATH do botão\n",
    "        element = lambda d : d.find_elements(by=By.XPATH, value=\"//div//button/span[@data-icon='send']\")\n",
    "\n",
    "        # Espera\n",
    "        loaded = WebDriverWait(driver, 1000).until(method=element, message=\"Usuário não cadastrado\")\n",
    "\n",
    "        # Carregar botão\n",
    "        driver.implicitly_wait(10)\n",
    "        send = element(driver)[0]\n",
    "\n",
    "        # Clickar no botão\n",
    "        send.click()\n",
    "\n",
    "        time.sleep(10) \n",
    "\n",
    "        # Fechar janela\n",
    "        #driver.close()\n",
    "    except:\n",
    "        continue"
   ]
  }
 ],
 "metadata": {
  "kernelspec": {
   "display_name": "Python 3 (ipykernel)",
   "language": "python",
   "name": "python3"
  },
  "language_info": {
   "codemirror_mode": {
    "name": "ipython",
    "version": 3
   },
   "file_extension": ".py",
   "mimetype": "text/x-python",
   "name": "python",
   "nbconvert_exporter": "python",
   "pygments_lexer": "ipython3",
   "version": "3.9.7"
  }
 },
 "nbformat": 4,
 "nbformat_minor": 5
}
