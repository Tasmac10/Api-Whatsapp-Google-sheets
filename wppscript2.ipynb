{
 "cells": [
  {
   "cell_type": "code",
   "execution_count": 3,
   "id": "9558f3b2",
   "metadata": {
    "ExecuteTime": {
     "end_time": "2023-09-14T20:45:46.648905Z",
     "start_time": "2023-09-14T20:45:46.587271Z"
    }
   },
   "outputs": [
    {
     "ename": "ModuleNotFoundError",
     "evalue": "No module named 'selenium'",
     "output_type": "error",
     "traceback": [
      "\u001B[0;31m---------------------------------------------------------------------------\u001B[0m",
      "\u001B[0;31mModuleNotFoundError\u001B[0m                       Traceback (most recent call last)",
      "\u001B[0;32m/var/folders/4b/2p7sw4rn7nq_pwvqckhj096h0000gn/T/ipykernel_3692/639692995.py\u001B[0m in \u001B[0;36m<module>\u001B[0;34m\u001B[0m\n\u001B[0;32m----> 1\u001B[0;31m \u001B[0;32mfrom\u001B[0m \u001B[0mselenium\u001B[0m \u001B[0;32mimport\u001B[0m \u001B[0mwebdriver\u001B[0m\u001B[0;34m\u001B[0m\u001B[0;34m\u001B[0m\u001B[0m\n\u001B[0m\u001B[1;32m      2\u001B[0m \u001B[0;32mfrom\u001B[0m \u001B[0mselenium\u001B[0m\u001B[0;34m.\u001B[0m\u001B[0mwebdriver\u001B[0m\u001B[0;34m.\u001B[0m\u001B[0mchrome\u001B[0m\u001B[0;34m.\u001B[0m\u001B[0mservice\u001B[0m \u001B[0;32mimport\u001B[0m \u001B[0mService\u001B[0m\u001B[0;34m\u001B[0m\u001B[0;34m\u001B[0m\u001B[0m\n\u001B[1;32m      3\u001B[0m \u001B[0;32mfrom\u001B[0m \u001B[0mselenium\u001B[0m\u001B[0;34m.\u001B[0m\u001B[0mwebdriver\u001B[0m\u001B[0;34m.\u001B[0m\u001B[0mcommon\u001B[0m\u001B[0;34m.\u001B[0m\u001B[0mby\u001B[0m \u001B[0;32mimport\u001B[0m \u001B[0mBy\u001B[0m\u001B[0;34m\u001B[0m\u001B[0;34m\u001B[0m\u001B[0m\n\u001B[1;32m      4\u001B[0m \u001B[0;32mfrom\u001B[0m \u001B[0mselenium\u001B[0m\u001B[0;34m.\u001B[0m\u001B[0mwebdriver\u001B[0m\u001B[0;34m.\u001B[0m\u001B[0msupport\u001B[0m\u001B[0;34m.\u001B[0m\u001B[0mui\u001B[0m \u001B[0;32mimport\u001B[0m \u001B[0mWebDriverWait\u001B[0m\u001B[0;34m\u001B[0m\u001B[0;34m\u001B[0m\u001B[0m\n\u001B[1;32m      5\u001B[0m \u001B[0;32mfrom\u001B[0m \u001B[0murllib\u001B[0m\u001B[0;34m.\u001B[0m\u001B[0mparse\u001B[0m \u001B[0;32mimport\u001B[0m \u001B[0mquote\u001B[0m\u001B[0;34m\u001B[0m\u001B[0;34m\u001B[0m\u001B[0m\n",
      "\u001B[0;31mModuleNotFoundError\u001B[0m: No module named 'selenium'"
     ]
    }
   ],
   "source": [
    "from selenium import webdriver\n",
    "from selenium.webdriver.chrome.service import Service\n",
    "from selenium.webdriver.common.by import By\n",
    "from selenium.webdriver.support.ui import WebDriverWait\n",
    "from urllib.parse import quote\n",
    "from re import fullmatch\n",
    "from webdriver_manager.chrome import ChromeDriverManager\n",
    "import time\n",
    "import pandas as pd\n",
    "import requests\n",
    "import io\n",
    "\n",
    "\n",
    "\n",
    "message = str('''message\n",
    "''')\n",
    "servico = Service(r'/usr/local/bin/chromedriver')\n",
    "driver = webdriver.Chrome(service=servico)\n",
    "\n",
    "driver.get(\"https://web.whatsapp.com/\")\n",
    "\n"
   ]
  },
  {
   "cell_type": "code",
   "execution_count": null,
   "id": "44a9949f",
   "metadata": {
    "ExecuteTime": {
     "start_time": "2023-09-14T20:45:46.629275Z"
    }
   },
   "outputs": [],
   "source": [
    "sheets_id = 'sheets id'\n",
    "df = pd.read_csv(f\"https://docs.google.com/spreadsheets/d/{sheets_id}/export?format=csv\")\n",
    "\n",
    "for i in df['Number']:\n",
    "    phone_no = str(i)\n",
    "    try:\n",
    "        ## HELPERS ##\n",
    "        \"\"\"\n",
    "        Functions that do self explanatory tasks\n",
    "        \"\"\"\n",
    "        def modify_number(phone_no):\n",
    "            phone_no = phone_no.replace(\" \", \"\").replace(\"-\", \"\").replace(\"(\", \"\").replace(\")\", \"\")\n",
    "            return phone_no\n",
    "\n",
    "        \"\"\"\n",
    "        Uses Selenium to send a text\n",
    "        \"\"\"\n",
    "        phone_no = modify_number(phone_no)\n",
    "\n",
    "\n",
    "\n",
    "        # Goes to site\n",
    "        site = f\"https://web.whatsapp.com/send?phone={phone_no}&text={quote(message)}\"\n",
    "        driver.get(site)\n",
    "\n",
    "        # Uses XPATH to find a send button\n",
    "        element = lambda d : d.find_elements(by=By.XPATH, value=\"//div//button/span[@data-icon='send']\")\n",
    "\n",
    "        # Waits until send is found (in case of login)\n",
    "        loaded = WebDriverWait(driver, 1000).until(method=element, message=\"User never signed in\")\n",
    "\n",
    "        # Loads a send button\n",
    "        driver.implicitly_wait(10)\n",
    "        send = element(driver)[0]\n",
    "\n",
    "        # Clicks the send button\n",
    "        send.click()\n",
    "\n",
    "        # Sleeps for 5 secs to allow time for text to send before closing window\n",
    "        time.sleep(10) \n",
    "\n",
    "        # Closes window\n",
    "        #driver.close()\n",
    "    except:\n",
    "        continue"
   ]
  },
  {
   "cell_type": "code",
   "execution_count": null,
   "id": "5a7eda35",
   "metadata": {
    "ExecuteTime": {
     "start_time": "2023-09-14T20:45:46.630596Z"
    }
   },
   "outputs": [],
   "source": [
    "\n"
   ]
  },
  {
   "cell_type": "code",
   "execution_count": null,
   "id": "0fd4ffb6",
   "metadata": {
    "ExecuteTime": {
     "start_time": "2023-09-14T20:45:46.635185Z"
    }
   },
   "outputs": [],
   "source": []
  }
 ],
 "metadata": {
  "kernelspec": {
   "display_name": "Python 3 (ipykernel)",
   "language": "python",
   "name": "python3"
  },
  "language_info": {
   "codemirror_mode": {
    "name": "ipython",
    "version": 3
   },
   "file_extension": ".py",
   "mimetype": "text/x-python",
   "name": "python",
   "nbconvert_exporter": "python",
   "pygments_lexer": "ipython3",
   "version": "3.9.7"
  }
 },
 "nbformat": 4,
 "nbformat_minor": 5
}
